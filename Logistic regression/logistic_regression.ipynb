{
 "cells": [
  {
   "cell_type": "code",
   "execution_count": 1,
   "id": "daedf586",
   "metadata": {},
   "outputs": [],
   "source": [
    "import numpy as np\n",
    "import pandas as pd\n",
    "import matplotlib.pyplot as plt"
   ]
  },
  {
   "cell_type": "code",
   "execution_count": 2,
   "id": "8f4e4c9e",
   "metadata": {},
   "outputs": [],
   "source": [
    "x=np.loadtxt('ex4x.dat')\n",
    "y=np.loadtxt('ex4y.dat')"
   ]
  },
  {
   "cell_type": "code",
   "execution_count": 3,
   "id": "2a04211b",
   "metadata": {},
   "outputs": [
    {
     "data": {
      "text/plain": [
       "(80, 2)"
      ]
     },
     "execution_count": 3,
     "metadata": {},
     "output_type": "execute_result"
    }
   ],
   "source": [
    "x.shape"
   ]
  },
  {
   "cell_type": "code",
   "execution_count": null,
   "id": "15464479",
   "metadata": {},
   "outputs": [],
   "source": []
  },
  {
   "cell_type": "code",
   "execution_count": 4,
   "id": "d4c0ce83",
   "metadata": {},
   "outputs": [
    {
     "data": {
      "text/plain": [
       "(80,)"
      ]
     },
     "execution_count": 4,
     "metadata": {},
     "output_type": "execute_result"
    }
   ],
   "source": [
    "y.shape"
   ]
  },
  {
   "cell_type": "code",
   "execution_count": 5,
   "id": "4f9ce996",
   "metadata": {},
   "outputs": [
    {
     "data": {
      "text/plain": [
       "(80,)"
      ]
     },
     "execution_count": 5,
     "metadata": {},
     "output_type": "execute_result"
    }
   ],
   "source": [
    "y.reshape([y.shape[0],1])\n",
    "y.shape"
   ]
  },
  {
   "cell_type": "code",
   "execution_count": 6,
   "id": "b8d7a443",
   "metadata": {},
   "outputs": [
    {
     "data": {
      "image/png": "[encoded data removed]",
      "text/plain": [
       "<Figure size 640x480 with 1 Axes>"
      ]
     },
     "metadata": {},
     "output_type": "display_data"
    }
   ],
   "source": [
    "plt.scatter(x[:,0],x[:,1])\n",
    "plt.show()"
   ]
  },
  {
   "cell_type": "code",
   "execution_count": 7,
   "id": "a6e9c42e",
   "metadata": {},
   "outputs": [],
   "source": [
    "#x = np.vstack((np.ones((x.shape[0], )), x.T)).T"
   ]
  },
  {
   "cell_type": "code",
   "execution_count": 8,
   "id": "f3734b72",
   "metadata": {},
   "outputs": [],
   "source": [
    "ones=np.ones([x.shape[0],1])\n",
    "x=np.concatenate((ones,x),axis=1)\n"
   ]
  },
  {
   "cell_type": "code",
   "execution_count": 9,
   "id": "34647e7f",
   "metadata": {},
   "outputs": [
    {
     "data": {
      "text/plain": [
       "(80, 3)"
      ]
     },
     "execution_count": 9,
     "metadata": {},
     "output_type": "execute_result"
    }
   ],
   "source": [
    "x.shape"
   ]
  },
  {
   "cell_type": "code",
   "execution_count": null,
   "id": "2ab90219",
   "metadata": {},
   "outputs": [],
   "source": []
  },
  {
   "cell_type": "code",
   "execution_count": 10,
   "id": "4c679f57",
   "metadata": {},
   "outputs": [
    {
     "name": "stdout",
     "output_type": "stream",
     "text": [
      "shape of the x (80, 3)\n",
      "shape of the y (80,)\n"
     ]
    }
   ],
   "source": [
    "print(\"shape of the x\",x.shape)\n",
    "print(\"shape of the y\",y.shape)"
   ]
  },
  {
   "cell_type": "code",
   "execution_count": null,
   "id": "312da46c",
   "metadata": {},
   "outputs": [],
   "source": []
  },
  {
   "cell_type": "code",
   "execution_count": 11,
   "id": "98118965",
   "metadata": {},
   "outputs": [],
   "source": [
    "def sigmoid(x):\n",
    "    return 1/(1 + np.exp(-(np.dot(w.T,x))))"
   ]
  },
  {
   "cell_type": "code",
   "execution_count": 12,
   "id": "6d63bfbc",
   "metadata": {},
   "outputs": [],
   "source": [
    "def product(x):\n",
    "    return np.dot(w.T, x)"
   ]
  },
  {
   "cell_type": "code",
   "execution_count": 13,
   "id": "eebe36a9",
   "metadata": {},
   "outputs": [],
   "source": [
    "def loss(m,y,y_predicted):\n",
    "    return (-(1/m)*np.sum( (y*np.log(y_predicted)) + (1-y)*np.log(1-y_predicted)))"
   ]
  },
  {
   "cell_type": "code",
   "execution_count": 14,
   "id": "af99ee33",
   "metadata": {},
   "outputs": [],
   "source": [
    "def gradient(m,x,y,y_predicted):\n",
    "    return((1/m)*np.dot(x.T,y_pred-y))"
   ]
  },
  {
   "cell_type": "code",
   "execution_count": 15,
   "id": "4df8f536",
   "metadata": {},
   "outputs": [],
   "source": [
    "m = x.shape[1]\n",
    "n = x.shape[0]\n",
    "w = np.zeros((m,1))"
   ]
  },
  {
   "cell_type": "code",
   "execution_count": 16,
   "id": "4a8f9a09",
   "metadata": {},
   "outputs": [
    {
     "name": "stdout",
     "output_type": "stream",
     "text": [
      "the value of m 3\n",
      "the value of n 80\n",
      "the shape of w (3, 1)\n"
     ]
    }
   ],
   "source": [
    "\n",
    "\n",
    "print(\"the value of m\",m)\n",
    "print(\"the value of n\",n)\n",
    "print(\"the shape of w\",w.shape)"
   ]
  },
  {
   "cell_type": "code",
   "execution_count": 17,
   "id": "fb309e27",
   "metadata": {},
   "outputs": [],
   "source": [
    " b = 0"
   ]
  },
  {
   "cell_type": "code",
   "execution_count": null,
   "id": "86a37dbb",
   "metadata": {},
   "outputs": [],
   "source": []
  },
  {
   "cell_type": "code",
   "execution_count": 18,
   "id": "1bf6a6bc",
   "metadata": {},
   "outputs": [
    {
     "name": "stdout",
     "output_type": "stream",
     "text": [
      "(3, 1)\n"
     ]
    }
   ],
   "source": [
    "x.shape\n",
    "print(w.shape)"
   ]
  },
  {
   "cell_type": "code",
   "execution_count": 19,
   "id": "46e27dd2",
   "metadata": {},
   "outputs": [
    {
     "ename": "ValueError",
     "evalue": "shapes (1,3) and (80,3) not aligned: 3 (dim 1) != 80 (dim 0)",
     "output_type": "error",
     "traceback": [
      "\u001b[1;31m---------------------------------------------------------------------------\u001b[0m",
      "\u001b[1;31mValueError\u001b[0m                                Traceback (most recent call last)",
      "Cell \u001b[1;32mIn[19], line 6\u001b[0m\n\u001b[0;32m      4\u001b[0m los\u001b[38;5;241m=\u001b[39m[]\n\u001b[0;32m      5\u001b[0m \u001b[38;5;28;01mfor\u001b[39;00m epoch \u001b[38;5;129;01min\u001b[39;00m \u001b[38;5;28mrange\u001b[39m(iteration):\n\u001b[1;32m----> 6\u001b[0m     p\u001b[38;5;241m=\u001b[39m\u001b[43mproduct\u001b[49m\u001b[43m(\u001b[49m\u001b[43mx\u001b[49m\u001b[43m)\u001b[49m\n\u001b[0;32m      7\u001b[0m     y_pred\u001b[38;5;241m=\u001b[39msigmoid(x\u001b[38;5;241m.\u001b[39mT)\n\u001b[0;32m      8\u001b[0m     l\u001b[38;5;241m=\u001b[39mloss(m,y,y_pred)\n",
      "Cell \u001b[1;32mIn[12], line 2\u001b[0m, in \u001b[0;36mproduct\u001b[1;34m(x)\u001b[0m\n\u001b[0;32m      1\u001b[0m \u001b[38;5;28;01mdef\u001b[39;00m \u001b[38;5;21mproduct\u001b[39m(x):\n\u001b[1;32m----> 2\u001b[0m     \u001b[38;5;28;01mreturn\u001b[39;00m \u001b[43mnp\u001b[49m\u001b[38;5;241;43m.\u001b[39;49m\u001b[43mdot\u001b[49m\u001b[43m(\u001b[49m\u001b[43mw\u001b[49m\u001b[38;5;241;43m.\u001b[39;49m\u001b[43mT\u001b[49m\u001b[43m,\u001b[49m\u001b[43m \u001b[49m\u001b[43mx\u001b[49m\u001b[43m)\u001b[49m\n",
      "\u001b[1;31mValueError\u001b[0m: shapes (1,3) and (80,3) not aligned: 3 (dim 1) != 80 (dim 0)"
     ]
    }
   ],
   "source": [
    "# now training loop\n",
    "iteration=100\n",
    "lr=0.01\n",
    "los=[]\n",
    "for epoch in range(iteration):\n",
    "    p=product(x)\n",
    "    y_pred=sigmoid(x.T)\n",
    "    l=loss(m,y,y_pred)\n",
    "    los.append(l)\n",
    "    dw=gradient(m,x,Y,y_pred)\n",
    "   \n",
    "    w=w-lr*dw.T\n",
    "    \n",
    "    if epoch % 1==0:\n",
    "        print(f'epoch{epoch+1}:loss={l:.3f}')\n",
    "    "
   ]
  },
  {
   "cell_type": "code",
   "execution_count": 20,
   "id": "02605e11",
   "metadata": {},
   "outputs": [
    {
     "data": {
      "image/png": "[encoded data removed]",
      "text/plain": [
       "<Figure size 640x480 with 1 Axes>"
      ]
     },
     "metadata": {},
     "output_type": "display_data"
    }
   ],
   "source": [
    "plt.plot(los,'r')\n",
    "plt.show()"
   ]
  },
  {
   "cell_type": "code",
   "execution_count": null,
   "id": "d7c34d7a",
   "metadata": {},
   "outputs": [],
   "source": []
  }
 ],
 "metadata": {
  "kernelspec": {
   "display_name": "Python 3 (ipykernel)",
   "language": "python",
   "name": "python3"
  },
  "language_info": {
   "codemirror_mode": {
    "name": "ipython",
    "version": 3
   },
   "file_extension": ".py",
   "mimetype": "text/x-python",
   "name": "python",
   "nbconvert_exporter": "python",
   "pygments_lexer": "ipython3",
   "version": "3.9.18"
  },
  "widgets": {
   "application/vnd.jupyter.widget-state+json": {
    "state": {},
    "version_major": 2,
    "version_minor": 0
   }
  }
 },
 "nbformat": 4,
 "nbformat_minor": 5
}
